{
  "nbformat": 4,
  "nbformat_minor": 0,
  "metadata": {
    "colab": {
      "provenance": []
    },
    "kernelspec": {
      "name": "python3",
      "display_name": "Python 3"
    },
    "language_info": {
      "name": "python"
    }
  },
  "cells": [
    {
      "cell_type": "code",
      "execution_count": null,
      "metadata": {
        "id": "t6YmsAukyNhG"
      },
      "outputs": [],
      "source": [
        "#Q.1 Classes are user-defined data types that act as the blueprint for individual objects, attributes and methods. Objects are instances of a class created with specifically defined data."
      ]
    },
    {
      "cell_type": "code",
      "source": [
        "class test:#creation of class test\n",
        "\n",
        "  def __init__(self,name):\n",
        "     self.name=name\n",
        "\n",
        "  def return_name(self):\n",
        "     print(self.name)\n"
      ],
      "metadata": {
        "id": "iHTHfjpV4rNE"
      },
      "execution_count": 5,
      "outputs": []
    },
    {
      "cell_type": "code",
      "source": [
        "t=test(\"mahima\")#t is the object of class test\n"
      ],
      "metadata": {
        "id": "-c8FnI6g4-ac"
      },
      "execution_count": 6,
      "outputs": []
    },
    {
      "cell_type": "code",
      "source": [
        "t.name\n"
      ],
      "metadata": {
        "colab": {
          "base_uri": "https://localhost:8080/",
          "height": 35
        },
        "id": "nVy2P-Jw5Jwz",
        "outputId": "6988e311-7149-40f8-ef04-6fce682c927f"
      },
      "execution_count": 7,
      "outputs": [
        {
          "output_type": "execute_result",
          "data": {
            "text/plain": [
              "'mahima'"
            ],
            "application/vnd.google.colaboratory.intrinsic+json": {
              "type": "string"
            }
          },
          "metadata": {},
          "execution_count": 7
        }
      ]
    },
    {
      "cell_type": "code",
      "source": [
        "#Q.2 The four pillars of OOPs are Data abstraction,Encapsulation,Inheritance and Polymorphism.\n"
      ],
      "metadata": {
        "id": "ITiViSI0539f"
      },
      "execution_count": null,
      "outputs": []
    },
    {
      "cell_type": "code",
      "source": [
        "#Q.3 __init__() function is used to initialise the attributes of an object inside a class as soon as the object is created."
      ],
      "metadata": {
        "id": "5c0sqYjo6cB-"
      },
      "execution_count": null,
      "outputs": []
    },
    {
      "cell_type": "code",
      "source": [
        "class pw:\n",
        "  def __init__(self,stu_id,mob_num):\n",
        "    self.stu_id=stu_id\n",
        "    self.mob_num=mob_num\n",
        "\n",
        "  def return_stu_details(self):\n",
        "     print(self.stu_id,self.mob_num)\n"
      ],
      "metadata": {
        "id": "K0ApZn3K7UdE"
      },
      "execution_count": 8,
      "outputs": []
    },
    {
      "cell_type": "code",
      "source": [
        "pw1=pw(101,98765432)\n"
      ],
      "metadata": {
        "id": "Cav48T3Y77FL"
      },
      "execution_count": 9,
      "outputs": []
    },
    {
      "cell_type": "code",
      "source": [
        "pw2=pw(102,97658453)\n"
      ],
      "metadata": {
        "id": "R3FYV3o68CfN"
      },
      "execution_count": 10,
      "outputs": []
    },
    {
      "cell_type": "code",
      "source": [
        "pw3=pw(103,88765421)"
      ],
      "metadata": {
        "id": "7c1ltxXX8JHQ"
      },
      "execution_count": 11,
      "outputs": []
    },
    {
      "cell_type": "code",
      "source": [
        "#Q.4 Self represents the instance of class. This keyword allows you to access variables, attributes, and methods of a defined class in Python"
      ],
      "metadata": {
        "id": "Q5vgzUdf8NJZ"
      },
      "execution_count": null,
      "outputs": []
    },
    {
      "cell_type": "code",
      "source": [
        "\"\"\"Q.5 Inheritance allows us to define a class that inherits all the methods and properties from another class. Parent class is the class being inherited from, also called base class. Child class is the class that inherits from another class, also called derived class.\n",
        "There are five types of inheritance:\n",
        "1). Single inheritance.\n",
        "2). Multiple inheritances.\n",
        "3). Multilevel inheritance.\n",
        "4). Hierarchical inheritance.\n",
        "5). Hybrid inheritance.\n"
      ],
      "metadata": {
        "id": "xqmon-to8mtV"
      },
      "execution_count": null,
      "outputs": []
    },
    {
      "cell_type": "code",
      "source": [
        "#1. Single inheritance.\n",
        "class class1:\n",
        "  def test_class1(self):\n",
        "   print(\"this is class 1\")\n",
        "\n",
        "class class2(class1):\n",
        "  def test_class2(self):\n",
        "   print(\"this is class 2\")\n"
      ],
      "metadata": {
        "id": "eV32IM1J9b6I"
      },
      "execution_count": 18,
      "outputs": []
    },
    {
      "cell_type": "code",
      "source": [
        "obj_class2=class2()"
      ],
      "metadata": {
        "id": "2V0ANehU-Pvt"
      },
      "execution_count": 19,
      "outputs": []
    },
    {
      "cell_type": "code",
      "source": [
        "obj_class2.test_class1()"
      ],
      "metadata": {
        "colab": {
          "base_uri": "https://localhost:8080/"
        },
        "id": "1_MA3z97-ZuG",
        "outputId": "c70d2c15-d775-4aa4-a23b-8f6f0dfbdc0f"
      },
      "execution_count": 20,
      "outputs": [
        {
          "output_type": "stream",
          "name": "stdout",
          "text": [
            "this is class 1\n"
          ]
        }
      ]
    },
    {
      "cell_type": "code",
      "source": [
        "#2.Multiple inheritances.\n",
        "class class1:\n",
        "  def test_class1(self):\n",
        "   print(\"this is class 1\")\n",
        "\n",
        "class class2:\n",
        "  def test_class2(self):\n",
        "   print(\"this is class 2\")\n",
        "\n",
        "class class3(class1,class2):\n",
        "  pass"
      ],
      "metadata": {
        "id": "Mq5m0Fxz_QL9"
      },
      "execution_count": 21,
      "outputs": []
    },
    {
      "cell_type": "code",
      "source": [
        "obj_class3=class3()"
      ],
      "metadata": {
        "id": "6TrIf2z0AHUr"
      },
      "execution_count": 26,
      "outputs": []
    },
    {
      "cell_type": "code",
      "source": [
        "obj_class3.test_class2()"
      ],
      "metadata": {
        "colab": {
          "base_uri": "https://localhost:8080/"
        },
        "id": "Q0Ll57Rv_9Jm",
        "outputId": "47fba8ba-87a8-4a9b-a8a2-de0ddeee1b1e"
      },
      "execution_count": 27,
      "outputs": [
        {
          "output_type": "stream",
          "name": "stdout",
          "text": [
            "this is class 2\n"
          ]
        }
      ]
    },
    {
      "cell_type": "code",
      "source": [
        "obj_class3.test_class1()"
      ],
      "metadata": {
        "colab": {
          "base_uri": "https://localhost:8080/"
        },
        "id": "CFIqujnmAEp1",
        "outputId": "950f15f1-b248-40a1-d829-b881201d6a1a"
      },
      "execution_count": 28,
      "outputs": [
        {
          "output_type": "stream",
          "name": "stdout",
          "text": [
            "this is class 1\n"
          ]
        }
      ]
    },
    {
      "cell_type": "code",
      "source": [
        "# 3.Multilevel inheritance.\n",
        "class class1:\n",
        "  def test_class1(self):\n",
        "   print(\"this is class 1\")\n",
        "\n",
        "class class2(class1):\n",
        "  def test_class2(self):\n",
        "   print(\"this is class 2\")\n",
        "\n",
        "class class3(class2):\n",
        "  def test_class3(self):\n",
        "    print(\"this is class 3\")"
      ],
      "metadata": {
        "id": "Yk1PzAu-AeO_"
      },
      "execution_count": 29,
      "outputs": []
    },
    {
      "cell_type": "code",
      "source": [
        "obj_class3=class3()\n"
      ],
      "metadata": {
        "id": "_VnRfarfA9RS"
      },
      "execution_count": 34,
      "outputs": []
    },
    {
      "cell_type": "code",
      "source": [
        "obj_class3.test_class1()"
      ],
      "metadata": {
        "colab": {
          "base_uri": "https://localhost:8080/"
        },
        "id": "Qx6b7N1LBCHX",
        "outputId": "e6e43c8c-9790-4823-f4ca-0172beb7682c"
      },
      "execution_count": 35,
      "outputs": [
        {
          "output_type": "stream",
          "name": "stdout",
          "text": [
            "this is class 1\n"
          ]
        }
      ]
    },
    {
      "cell_type": "code",
      "source": [
        "#4.Hierarchical inheritance.\n",
        "class class1:\n",
        "  def test_class1(self):\n",
        "   print(\"this is class 1\")\n",
        "\n",
        "class class2(class1):\n",
        "  def test_class2(self):\n",
        "   print(\"this is class 2\")\n",
        "\n",
        "class class3(class1):\n",
        "  def test_class3(self):\n",
        "    print(\"this is class 3\")"
      ],
      "metadata": {
        "id": "u1p1bldmBIEq"
      },
      "execution_count": 36,
      "outputs": []
    },
    {
      "cell_type": "code",
      "source": [
        "obj_1=class3()"
      ],
      "metadata": {
        "id": "SJ2bMXu_B2qv"
      },
      "execution_count": 41,
      "outputs": []
    },
    {
      "cell_type": "code",
      "source": [
        "obj_1.test_class1()"
      ],
      "metadata": {
        "colab": {
          "base_uri": "https://localhost:8080/"
        },
        "id": "rGm2npOhB8-Q",
        "outputId": "34848385-92bc-46c3-8fdd-780b681eac8f"
      },
      "execution_count": 42,
      "outputs": [
        {
          "output_type": "stream",
          "name": "stdout",
          "text": [
            "this is class 1\n"
          ]
        }
      ]
    },
    {
      "cell_type": "code",
      "source": [
        "obj_2=class2()\n"
      ],
      "metadata": {
        "id": "ATbhWDD5CGiI"
      },
      "execution_count": 43,
      "outputs": []
    },
    {
      "cell_type": "code",
      "source": [
        "obj_2.test_class1()\n"
      ],
      "metadata": {
        "colab": {
          "base_uri": "https://localhost:8080/"
        },
        "id": "mRBh1a_WCcuQ",
        "outputId": "7cd6b5d1-5110-40b2-ba85-b7544c371278"
      },
      "execution_count": 44,
      "outputs": [
        {
          "output_type": "stream",
          "name": "stdout",
          "text": [
            "this is class 1\n"
          ]
        }
      ]
    },
    {
      "cell_type": "code",
      "source": [
        "#5.Hybrid inheritance.\n",
        "class class1:\n",
        "  def test_class1(self):\n",
        "   print(\"this is class 1\")\n",
        "\n",
        "class class2(class1):\n",
        "  def test_class2(self):\n",
        "   print(\"this is class 2\")\n",
        "\n",
        "class class3(class2,class1):\n",
        "  def test_class3(self):\n",
        "    print(\"this is class 3\")\n"
      ],
      "metadata": {
        "id": "H2ng0i4NCgtQ"
      },
      "execution_count": 47,
      "outputs": []
    },
    {
      "cell_type": "code",
      "source": [
        "obj_class3=class3()"
      ],
      "metadata": {
        "id": "-Zop4pEjDJVc"
      },
      "execution_count": 48,
      "outputs": []
    },
    {
      "cell_type": "code",
      "source": [
        "obj_class3.test_class1()"
      ],
      "metadata": {
        "colab": {
          "base_uri": "https://localhost:8080/"
        },
        "id": "LvMo4ibXDrgy",
        "outputId": "b14e67e4-8841-492e-9f8d-02c8872e57dd"
      },
      "execution_count": 49,
      "outputs": [
        {
          "output_type": "stream",
          "name": "stdout",
          "text": [
            "this is class 1\n"
          ]
        }
      ]
    },
    {
      "cell_type": "code",
      "source": [
        "obj_class3.test_class2()"
      ],
      "metadata": {
        "colab": {
          "base_uri": "https://localhost:8080/"
        },
        "id": "bMSldVt5Dv9X",
        "outputId": "634bec5a-70ac-4861-9b8d-1004be5f6a68"
      },
      "execution_count": 50,
      "outputs": [
        {
          "output_type": "stream",
          "name": "stdout",
          "text": [
            "this is class 2\n"
          ]
        }
      ]
    },
    {
      "cell_type": "code",
      "source": [
        "obj_class3.test_class3()"
      ],
      "metadata": {
        "colab": {
          "base_uri": "https://localhost:8080/"
        },
        "id": "g2J48WELD0jA",
        "outputId": "0fac4699-63d0-4405-fb5d-46cc1a56533b"
      },
      "execution_count": 51,
      "outputs": [
        {
          "output_type": "stream",
          "name": "stdout",
          "text": [
            "this is class 3\n"
          ]
        }
      ]
    },
    {
      "cell_type": "code",
      "source": [],
      "metadata": {
        "id": "AclfuGn5D4hW"
      },
      "execution_count": null,
      "outputs": []
    }
  ]
}